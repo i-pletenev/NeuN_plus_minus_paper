{
 "cells": [
  {
   "cell_type": "code",
   "execution_count": 12,
   "id": "645d6cd2-9986-4025-bb67-6dffe93110eb",
   "metadata": {},
   "outputs": [],
   "source": [
    "import pandas as pd\n",
    "from pybedtools.bedtool import BedTool as pbt\n",
    "import numpy as np\n",
    "from scipy import stats"
   ]
  },
  {
   "cell_type": "markdown",
   "id": "ccc438eb-7428-4ec4-9624-4435645f7026",
   "metadata": {},
   "source": [
    "### 1. Prep borders"
   ]
  },
  {
   "cell_type": "code",
   "execution_count": 207,
   "id": "a07bcb22-291d-4565-b231-ec12940ae3bf",
   "metadata": {},
   "outputs": [
    {
     "data": {
      "text/plain": [
       "(5278, 5302)"
      ]
     },
     "execution_count": 207,
     "metadata": {},
     "output_type": "execute_result"
    }
   ],
   "source": [
    "border_plus = pd.read_feather(\"/tank/projects/diana_hic/tads/boundaries_plus_ctcf_compartments_annotated.feather\")\n",
    "border_minus = pd.read_feather(\"/tank/projects/diana_hic/tads/boundaries_minus_ctcf_compartments_annotated.feather\")\n",
    "boundaries_minus_sploped = pbt.from_dataframe(border_minus.iloc[:, [0,1,2, 5]]).slop(b=15000, g=\"/tank/projects/diana_hic/chrom.sizes\")\n",
    "boundaries_plus_sploped = pbt.from_dataframe(border_plus.iloc[:, [0,1,2, 5]]).slop(b=15000, g=\"/tank/projects/diana_hic/chrom.sizes\")\n",
    "border_minus.shape[0], border_plus.shape[0]"
   ]
  },
  {
   "cell_type": "markdown",
   "id": "6234bad8-7a68-4a53-b819-e232519c3c54",
   "metadata": {},
   "source": [
    "### 2. Prep genes for the intersection"
   ]
  },
  {
   "cell_type": "code",
   "execution_count": 219,
   "id": "ea1c1411-a8c0-4c33-9896-552328256d69",
   "metadata": {},
   "outputs": [],
   "source": [
    "def make_tss(pc_DE_genes_minus):\n",
    "    chrom_sizes_path = \"/tank/projects/diana_hic/chrom.sizes\"\n",
    "    tss = pbt.from_dataframe(pc_DE_genes_minus).flank(g=chrom_sizes_path, s=True, l=1, r=0)\n",
    "    tss = pd.read_table(tss.fn, header = None, names=pc_DE_genes_minus.columns.tolist())\n",
    "    return tss\n",
    "    \n",
    "def prep_genes(path_gene, make_tss_from_genes = True):\n",
    "    pc_DE_genes_plus  = pd.read_csv(path_gene, header = None, sep=\"\\t\")\n",
    "    pc_DE_genes_plus.columns = [\"chrom2\", \"start2\", \"end2\", \"gene\", \"log2FC\", \"strand\"]\n",
    "    if make_tss_from_genes:\n",
    "        pc_DE_genes_plus = make_tss(pc_DE_genes_plus)\n",
    "    return pc_DE_genes_plus"
   ]
  },
  {
   "cell_type": "code",
   "execution_count": 126,
   "id": "6744b5f5-f720-4146-8d42-895a476ecd78",
   "metadata": {},
   "outputs": [],
   "source": [
    "def prep_full_annotation():\n",
    "    genes_strand = pd.read_csv(\"/tank/projects/diana_hic/rna-seq/rnaseq_results/GENCODE.v41.annotation.bed\", sep = \"\\t\", header = None)\n",
    "    genes_strand.columns = [\"chr\", \"start\", \"end\", \"gene.id\", \"smth\", \"strand\"]\n",
    "    genes_ensembl = pd.read_csv(\"/tank/projects/diana_hic/rna-seq/rnaseq_results/rnaseq.rizzardi2019.counts.GENCODE.autosomes_and_chrX.with_meta.tsv\", sep = \"\\t\")\n",
    "    gene_full_annotation = genes_ensembl[[\"gene.id\",\"gene.name\", \"gene.type\"]].merge(genes_strand, on = \"gene.id\")\n",
    "    return gene_full_annotation"
   ]
  },
  {
   "cell_type": "code",
   "execution_count": 216,
   "id": "91a24a43-2997-492d-86a6-62ac6f65947c",
   "metadata": {},
   "outputs": [],
   "source": [
    "def prep_expressed_rizzardi(make_tss_from_genes = True):\n",
    "    gene_full_annotation = prep_full_annotation()\n",
    "    rizzardi_all_genes_with_coordinates_expressed_short = pd.read_csv(\"/tank/projects/diana_hic/rna-seq/rnaseq_results/rizzardi_all_genes_with_coordinates_expressed_short.csv\")\n",
    "    rizzardi_all_genes_with_coordinates_expressed_short = rizzardi_all_genes_with_coordinates_expressed_short.merge(gene_full_annotation[[\"gene.name\",\"strand\"]].drop_duplicates().reset_index(drop=True))\n",
    "    if make_tss_from_genes:\n",
    "        rizzardi_all_genes_with_coordinates_expressed_short = make_tss(rizzardi_all_genes_with_coordinates_expressed_short)\n",
    "    return rizzardi_all_genes_with_coordinates_expressed_short"
   ]
  },
  {
   "cell_type": "code",
   "execution_count": 230,
   "id": "53a87a70-4d72-4004-9799-ae0c8f1e300c",
   "metadata": {},
   "outputs": [],
   "source": [
    "pc_DE_genes_plus = prep_genes('/tank/projects/diana_hic/rna-seq/rnaseq_results/rizzardi.pc_DE_genes.upr_in_neu.bed', make_tss_from_genes=True)\n",
    "pc_DE_genes_minus = prep_genes('/tank/projects/diana_hic/rna-seq/rnaseq_results/rizzardi.pc_DE_genes.upr_in_gli.bed', make_tss_from_genes=True)\n",
    "\n",
    "pc_DE_genes_plus_genes = prep_genes('/tank/projects/diana_hic/rna-seq/rnaseq_results/rizzardi.pc_DE_genes.upr_in_neu.bed', make_tss_from_genes=False)\n",
    "pc_DE_genes_minus_genes = prep_genes('/tank/projects/diana_hic/rna-seq/rnaseq_results/rizzardi.pc_DE_genes.upr_in_gli.bed', make_tss_from_genes=False)\n",
    "\n",
    "rizzardi_expressed = prep_expressed_rizzardi()\n",
    "rizzardi_expressed_genes = prep_expressed_rizzardi(make_tss_from_genes = False)"
   ]
  },
  {
   "cell_type": "code",
   "execution_count": 224,
   "id": "f8eba4ef-8b1e-4b95-994c-ea6e320cd62a",
   "metadata": {},
   "outputs": [],
   "source": [
    "def prep_de_genes(make_tss_from_genes = True):\n",
    "    if make_tss_from_genes:\n",
    "        rizz_file = rizzardi_expressed\n",
    "        minus_de_file  =pc_DE_genes_minus\n",
    "        plus_de_file  = pc_DE_genes_plus\n",
    "    else:\n",
    "        rizz_file = rizzardi_expressed_genes\n",
    "        minus_de_file  =pc_DE_genes_minus_genes\n",
    "        plus_de_file  =pc_DE_genes_plus_genes\n",
    "       \n",
    "    expressed_NOT_de_minus = rizz_file[~rizz_file[\"gene.name\"].isin(pc_DE_genes_minus.gene.to_list())]\n",
    "    expressed_NOT_de_plus = rizz_file[~rizz_file[\"gene.name\"].isin(pc_DE_genes_plus.gene.to_list())]\n",
    "    \n",
    "    expressed_NOT_de_minus.columns = [\"chrom2\", \"start2\", \"end2\", \"gene\", \"type\", \"strand\"]\n",
    "    expressed_NOT_de_plus.columns = [\"chrom2\", \"start2\", \"end2\", \"gene\", \"type\", \"strand\"]\n",
    "    expressed_NOT_de_minus = expressed_NOT_de_minus[expressed_NOT_de_minus.type == \"protein_coding\"]\n",
    "    expressed_NOT_de_plus = expressed_NOT_de_plus[expressed_NOT_de_plus.type == \"protein_coding\"]\n",
    "    return expressed_NOT_de_plus, expressed_NOT_de_minus"
   ]
  },
  {
   "cell_type": "code",
   "execution_count": 231,
   "id": "60681603-f6d8-47c2-bd9a-a9eaf4efeb4f",
   "metadata": {},
   "outputs": [
    {
     "name": "stdout",
     "output_type": "stream",
     "text": [
      "13198 13162\n",
      "13198 13162\n"
     ]
    }
   ],
   "source": [
    "expressed_NOT_de_plus_genes, expressed_NOT_de_minus_genes = prep_de_genes(make_tss_from_genes = False)\n",
    "print(expressed_NOT_de_plus_genes.shape[0], expressed_NOT_de_minus_genes.shape[0])\n",
    "expressed_NOT_de_plus, expressed_NOT_de_minus = prep_de_genes(make_tss_from_genes = True)\n",
    "print(expressed_NOT_de_plus.shape[0], expressed_NOT_de_minus.shape[0])"
   ]
  },
  {
   "cell_type": "markdown",
   "id": "bd9d3736-0e67-477c-b5e4-ab951f57f2e7",
   "metadata": {},
   "source": [
    "### Intersection"
   ]
  },
  {
   "cell_type": "markdown",
   "id": "aea60275-5984-4cb0-8da2-ea8b748a7bb8",
   "metadata": {},
   "source": [
    "#### A. All borders"
   ]
  },
  {
   "cell_type": "code",
   "execution_count": 173,
   "id": "f07279e0-6fb7-4cbf-944d-09e99b1ae7c3",
   "metadata": {},
   "outputs": [],
   "source": [
    "def make_a_b(expressed_not_de, border_file_init):  \n",
    "    border_file_slopped = pbt.from_dataframe(border_file_init.iloc[:, [0,1,2, 5]]).slop(b=15000, g=\"/tank/projects/diana_hic/chrom.sizes\")\n",
    "\n",
    "    b_noDE = border_file_slopped\\\n",
    "                  .intersect(pbt.from_dataframe(expressed_not_de), wa=True, wb=True)\n",
    "    b_noDE = pd.read_table(b_noDE.fn, header = None, names=border_file_init.iloc[:, [0,1,2, 5]].columns.tolist()+expressed_not_de.columns.tolist())\n",
    "    b = b_noDE.gene.nunique()\n",
    "    a = expressed_not_de.gene.nunique() - b\n",
    "    return_list_up_border = b_noDE.gene.unique().tolist()\n",
    "    return a, b, return_list_up_border"
   ]
  },
  {
   "cell_type": "code",
   "execution_count": 174,
   "id": "088f83aa-f26e-4c6a-bb33-9cec830398f6",
   "metadata": {},
   "outputs": [],
   "source": [
    "def make_analysis(expressed_NOT_de_plus,pc_DE_genes_plus,  border_plus):\n",
    "    a, b, smth = make_a_b(expressed_NOT_de_plus, border_plus)\n",
    "    c, d, list_up_border = make_a_b(pc_DE_genes_plus, border_plus)\n",
    "    table = np.array([[   a,  b],\n",
    "                      [  c, d]  ])\n",
    "    oddsratio, pvalue = stats.fisher_exact(table)\n",
    "    print(\"OddsR: \", oddsratio, \"p-Value:\", pvalue)\n",
    "    return list_up_border, table"
   ]
  },
  {
   "cell_type": "code",
   "execution_count": 135,
   "id": "a665dc4a-b302-44ee-bb9a-240365dfce2f",
   "metadata": {},
   "outputs": [
    {
     "name": "stdout",
     "output_type": "stream",
     "text": [
      "OddsR:  1.0847889701932285 p-Value: 0.08782128700718764\n"
     ]
    }
   ],
   "source": [
    "a, b = make_a_b(expressed_NOT_de_plus, border_plus)\n",
    "c, d = make_a_b(pc_DE_genes_plus, border_plus)\n",
    "table = np.array([[   a,  b],\n",
    "                  [  c, d]  ])\n",
    "oddsratio, pvalue = stats.fisher_exact(table)\n",
    "print(\"OddsR: \", oddsratio, \"p-Value:\", pvalue)"
   ]
  },
  {
   "cell_type": "code",
   "execution_count": 136,
   "id": "057deaa6-0ca9-44ab-9a1b-1bf1848778ab",
   "metadata": {},
   "outputs": [
    {
     "name": "stdout",
     "output_type": "stream",
     "text": [
      "OddsR:  0.8240541054241616 p-Value: 0.0003195781577038139\n"
     ]
    }
   ],
   "source": [
    "a, b = make_a_b(expressed_NOT_de_minus, border_minus)\n",
    "c, d = make_a_b(pc_DE_genes_minus, border_minus)\n",
    "table = np.array([[   a,  b],\n",
    "                  [  c, d]  ])\n",
    "oddsratio, pvalue = stats.fisher_exact(table)\n",
    "print(\"OddsR: \", oddsratio, \"p-Value:\", pvalue)"
   ]
  },
  {
   "cell_type": "markdown",
   "id": "bcddedf5-1d22-46dc-88a0-867b6d3a7974",
   "metadata": {},
   "source": [
    "##### All DE in borders"
   ]
  },
  {
   "cell_type": "markdown",
   "id": "9b1d53d0-66a4-4533-ab09-478e65b5f34c",
   "metadata": {},
   "source": [
    "##### Genes"
   ]
  },
  {
   "cell_type": "code",
   "execution_count": 238,
   "id": "3cc63a52-77a5-416e-a8a0-de2539411a03",
   "metadata": {},
   "outputs": [],
   "source": [
    "a, b, de_genes_in_border_plus = make_a_b(pc_DE_genes_plus_genes, border_plus)\n",
    "a, b, de_genes_in_border_minus = make_a_b(pc_DE_genes_minus_genes, border_minus)\n",
    "de_genes_in_border = {}\n",
    "de_genes_in_border[\"plus\"] = {}\n",
    "de_genes_in_border[\"plus\"] = de_genes_in_border_plus\n",
    "de_genes_in_border[\"minus\"] = {}\n",
    "de_genes_in_border[\"minus\"] = de_genes_in_border_minus\n",
    "with open(\"/tank/projects/diana_hic/hic_project_notebooks/temp_files/de_genes_in_border_basedOnGene.json\", 'w') as f:\n",
    "    json.dump(de_genes_in_border, f)\n"
   ]
  },
  {
   "cell_type": "markdown",
   "id": "37bfdf08-1139-4cf3-9433-7982539c40fc",
   "metadata": {},
   "source": [
    "##### TSS"
   ]
  },
  {
   "cell_type": "code",
   "execution_count": 186,
   "id": "b8e7ff62-3baf-4137-9936-3d0c86105249",
   "metadata": {},
   "outputs": [],
   "source": [
    "a, b, de_genes_in_border_plus = make_a_b(pc_DE_genes_plus, border_plus)\n",
    "a, b, de_genes_in_border_minus = make_a_b(pc_DE_genes_minus, border_minus)\n",
    "de_genes_in_border = {}\n",
    "de_genes_in_border[\"plus\"] = {}\n",
    "de_genes_in_border[\"plus\"] = de_genes_in_border_plus\n",
    "de_genes_in_border[\"minus\"] = {}\n",
    "de_genes_in_border[\"minus\"] = de_genes_in_border_minus\n",
    "with open(\"/tank/projects/diana_hic/hic_project_notebooks/temp_files/de_genes_in_border.json\", 'w') as f:\n",
    "    json.dump(de_genes_in_border, f)\n"
   ]
  },
  {
   "cell_type": "markdown",
   "id": "363cd45d-010c-4c04-9a27-e7863dd64937",
   "metadata": {},
   "source": [
    "#### All expressed"
   ]
  },
  {
   "cell_type": "code",
   "execution_count": 197,
   "id": "6a571ced-2f0e-4090-aa96-e0c80dd1f19c",
   "metadata": {},
   "outputs": [],
   "source": [
    "def make_all_expressed(border_file_init, rizzardi_all_genes_with_coordinates_expressed_short):\n",
    "    border_file_slopped = pbt.from_dataframe(border_file_init.iloc[:, [0,1,2, 5]]).slop(b=15000, g=\"/tank/projects/diana_hic/chrom.sizes\")\n",
    "    b_noDE = pbt.from_dataframe(rizzardi_all_genes_with_coordinates_expressed_short)\\\n",
    "                      .intersect(border_file_slopped, wa=True, wb=False)\n",
    "    b_noDE = pd.read_table(b_noDE.fn, header = None, names = rizzardi_all_genes_with_coordinates_expressed_short.columns.tolist())\n",
    "    return b_noDE['gene.name'].unique().tolist()"
   ]
  },
  {
   "cell_type": "code",
   "execution_count": 245,
   "id": "d3866411-86ac-4ec2-b991-20c012b4fba0",
   "metadata": {},
   "outputs": [],
   "source": [
    "all_expressed_minus = make_all_expressed(border_minus, rizzardi_all_genes_with_coordinates_expressed_short)\n",
    "len(all_expressed_minus)\n",
    "all_expressed_plus = make_all_expressed(border_plus, rizzardi_all_genes_with_coordinates_expressed_short)\n",
    "len(all_expressed_minus)\n",
    "\n",
    "all_genes_in_border = {}\n",
    "all_genes_in_border[\"plus\"] = {}\n",
    "all_genes_in_border[\"plus\"] = all_expressed_plus\n",
    "all_genes_in_border[\"minus\"] = {}\n",
    "all_genes_in_border[\"minus\"] = all_expressed_minus\n",
    "\n",
    "with open(\"/tank/projects/diana_hic/hic_project_notebooks/temp_files/all_genes_in_border.json\", 'w') as f:\n",
    "    json.dump(all_genes_in_border, f)"
   ]
  },
  {
   "cell_type": "code",
   "execution_count": 246,
   "id": "63590ac8-0e12-419d-a416-d40aec8cb49c",
   "metadata": {},
   "outputs": [],
   "source": [
    "all_expressed_minus = make_all_expressed(border_minus, rizzardi_expressed_genes)\n",
    "len(all_expressed_minus)\n",
    "all_expressed_plus = make_all_expressed(border_plus, rizzardi_expressed_genes)\n",
    "len(all_expressed_minus)\n",
    "\n",
    "all_genes_in_border = {}\n",
    "all_genes_in_border[\"plus\"] = {}\n",
    "all_genes_in_border[\"plus\"] = all_expressed_plus\n",
    "all_genes_in_border[\"minus\"] = {}\n",
    "all_genes_in_border[\"minus\"] = all_expressed_minus\n",
    "\n",
    "with open(\"/tank/projects/diana_hic/hic_project_notebooks/temp_files/all_genes_in_border_basedOnGene.json\", 'w') as f:\n",
    "    json.dump(all_genes_in_border, f)"
   ]
  },
  {
   "cell_type": "markdown",
   "id": "99e05531-fa59-4884-99e0-b034f3e97307",
   "metadata": {},
   "source": [
    "#### 2. Selected groups"
   ]
  },
  {
   "cell_type": "code",
   "execution_count": 138,
   "id": "0e14e17d-f97c-442c-9a43-21016a9d4a9e",
   "metadata": {},
   "outputs": [],
   "source": [
    "boundaries_plus = pd.read_feather(\"/tank/projects/diana_hic/tads/boundaries_plus_ctcf_compartments_annotated.feather\")\n",
    "boundaries_minus = pd.read_feather(\"/tank/projects/diana_hic/tads/boundaries_minus_ctcf_compartments_annotated.feather\")"
   ]
  },
  {
   "cell_type": "code",
   "execution_count": 148,
   "id": "f6670139-45a5-433e-bf46-d28894a1d8fb",
   "metadata": {},
   "outputs": [
    {
     "data": {
      "text/plain": [
       "['not in border', 'in border']"
      ]
     },
     "execution_count": 148,
     "metadata": {},
     "output_type": "execute_result"
    }
   ],
   "source": [
    "boundaries_plus.in_compartment_border.unique().tolist()"
   ]
  },
  {
   "cell_type": "code",
   "execution_count": 149,
   "id": "4f06b3fc-ff52-4b55-b13e-594cff385bf7",
   "metadata": {},
   "outputs": [
    {
     "data": {
      "text/plain": [
       "['has_ctcf_peak', 'no_ctcf_peak']"
      ]
     },
     "execution_count": 149,
     "metadata": {},
     "output_type": "execute_result"
    }
   ],
   "source": [
    "boundaries_plus.ctcf_peak.unique().tolist()"
   ]
  },
  {
   "cell_type": "code",
   "execution_count": 175,
   "id": "4eaf6170-1b4e-4965-b76c-5ac28984894b",
   "metadata": {},
   "outputs": [],
   "source": [
    "def make_intersect(expressed_NOT_de_plus,pc_DE_genes_plus, boundaries_plus):\n",
    "    pep_dict = {}\n",
    "    for border in ['not in border', 'in border']:\n",
    "        for ctcf in ['has_ctcf_peak', 'no_ctcf_peak']:\n",
    "            name = border+\" \"+ ctcf\n",
    "            print(name)\n",
    "            pep_dict[name] = {}\n",
    "            df = boundaries_plus.loc[(boundaries_plus.in_compartment_border == border ) & (boundaries_plus.ctcf_peak == ctcf)].reset_index(drop=True).copy()\n",
    "            list_up_border, table = make_analysis(expressed_NOT_de_plus,pc_DE_genes_plus,  df)\n",
    "            print(table)\n",
    "            print(\"Length\",len(list_up_border))\n",
    "            print(\"___\")\n",
    "            pep_dict[name] = list_up_border\n",
    "    return pep_dict\n",
    "            "
   ]
  },
  {
   "cell_type": "markdown",
   "id": "603f4f5b-84a6-44d6-9ef2-1044974007fd",
   "metadata": {},
   "source": [
    "#### Full genes"
   ]
  },
  {
   "cell_type": "code",
   "execution_count": 234,
   "id": "45dfbff0-0808-4ebc-a677-b19279ca4dc6",
   "metadata": {},
   "outputs": [
    {
     "name": "stdout",
     "output_type": "stream",
     "text": [
      "not in border has_ctcf_peak\n",
      "OddsR:  1.3868601776605263 p-Value: 2.0965679208305556e-14\n",
      "[[10459  2733]\n",
      " [ 2856  1035]]\n",
      "Length 1035\n",
      "___\n",
      "not in border no_ctcf_peak\n",
      "OddsR:  1.1473087171678722 p-Value: 0.1110296981170362\n",
      "[[12624   568]\n",
      " [ 3700   191]]\n",
      "Length 191\n",
      "___\n",
      "in border has_ctcf_peak\n",
      "OddsR:  1.1407484753338362 p-Value: 0.14968846615009157\n",
      "[[12678   514]\n",
      " [ 3719   172]]\n",
      "Length 172\n",
      "___\n",
      "in border no_ctcf_peak\n",
      "OddsR:  0.9132394683487272 p-Value: 0.7661617259089786\n",
      "[[13077   115]\n",
      " [ 3860    31]]\n",
      "Length 31\n",
      "___\n"
     ]
    }
   ],
   "source": [
    "list_up_border_plus_genes = make_intersect(expressed_NOT_de_plus_genes, pc_DE_genes_plus_genes, boundaries_plus)"
   ]
  },
  {
   "cell_type": "code",
   "execution_count": 236,
   "id": "0733eebe-cd4e-46e9-ac41-4c8578d3d864",
   "metadata": {},
   "outputs": [
    {
     "name": "stdout",
     "output_type": "stream",
     "text": [
      "not in border has_ctcf_peak\n",
      "OddsR:  1.0014939665056533 p-Value: 0.977705068930901\n",
      "[[11604  1551]\n",
      " [ 3541   474]]\n",
      "Length 474\n",
      "___\n",
      "not in border no_ctcf_peak\n",
      "OddsR:  0.8943158099277122 p-Value: 0.09144747528266259\n",
      "[[11972  1183]\n",
      " [ 3689   326]]\n",
      "Length 326\n",
      "___\n",
      "in border has_ctcf_peak\n",
      "OddsR:  0.9743751092466352 p-Value: 0.7743731335213555\n",
      "[[12480   675]\n",
      " [ 3814   201]]\n",
      "Length 201\n",
      "___\n",
      "in border no_ctcf_peak\n",
      "OddsR:  0.826741255144033 p-Value: 0.06085308818598399\n",
      "[[12655   500]\n",
      " [ 3888   127]]\n",
      "Length 127\n",
      "___\n"
     ]
    }
   ],
   "source": [
    "list_up_border_minus_genes = make_intersect(expressed_NOT_de_minus_genes,pc_DE_genes_minus_genes, boundaries_minus)"
   ]
  },
  {
   "cell_type": "code",
   "execution_count": 237,
   "id": "381e32bf-246b-46ad-b141-4a584d41ebdd",
   "metadata": {},
   "outputs": [],
   "source": [
    "with open(\"/tank/projects/diana_hic/hic_project_notebooks/temp_files/de_genes_up_border_plus_basedOnGene.json\", 'w') as f:\n",
    "    json.dump(list_up_border_plus_genes, f)\n",
    "\n",
    "with open(\"/tank/projects/diana_hic/hic_project_notebooks/temp_files/de_genes_up_border_minus_basedOnGene.json\", 'w') as f:\n",
    "    json.dump(list_up_border_minus_genes, f)"
   ]
  },
  {
   "cell_type": "markdown",
   "id": "42b561d2-8af0-4b67-aed8-65753f31cdfc",
   "metadata": {},
   "source": [
    "#### TSS"
   ]
  },
  {
   "cell_type": "code",
   "execution_count": 241,
   "id": "1e7c5c3d-304a-487c-9858-ece390e7e0ba",
   "metadata": {},
   "outputs": [
    {
     "name": "stdout",
     "output_type": "stream",
     "text": [
      "219\n",
      "128\n",
      "92\n",
      "50\n"
     ]
    }
   ],
   "source": [
    "for i in list_up_border_minus.keys():\n",
    "    print(len(list_up_border_minus[i]))"
   ]
  },
  {
   "cell_type": "code",
   "execution_count": 176,
   "id": "3cff4b6a-f88b-4152-92db-1a1cb1f9ba41",
   "metadata": {},
   "outputs": [
    {
     "name": "stdout",
     "output_type": "stream",
     "text": [
      "not in border has_ctcf_peak\n",
      "OddsR:  1.1472664070627836 p-Value: 0.011725873965054721\n",
      "[[11604  1588]\n",
      " [ 3363   528]]\n",
      "Length 528\n",
      "___\n",
      "not in border no_ctcf_peak\n",
      "OddsR:  0.8898000387200266 p-Value: 0.3702740338310667\n",
      "[[12869   323]\n",
      " [ 3806    85]]\n",
      "Length 85\n",
      "___\n",
      "in border has_ctcf_peak\n",
      "OddsR:  1.0414464256561882 p-Value: 0.7568010182810392\n",
      "[[12902   290]\n",
      " [ 3802    89]]\n",
      "Length 89\n",
      "___\n",
      "in border no_ctcf_peak\n",
      "OddsR:  0.644692421954603 p-Value: 0.2130441446625559\n",
      "[[13129    63]\n",
      " [ 3879    12]]\n",
      "Length 12\n",
      "___\n"
     ]
    }
   ],
   "source": [
    "list_up_border_plus = make_intersect(expressed_NOT_de_plus,pc_DE_genes_plus, boundaries_plus)"
   ]
  },
  {
   "cell_type": "code",
   "execution_count": 179,
   "id": "a004716e-26e9-457e-98dd-4a715df162a9",
   "metadata": {},
   "outputs": [
    {
     "name": "stdout",
     "output_type": "stream",
     "text": [
      "not in border has_ctcf_peak\n",
      "OddsR:  0.8735252477583766 p-Value: 0.08809145713633293\n",
      "[[12340   815]\n",
      " [ 3796   219]]\n",
      "Length 219\n",
      "___\n",
      "not in border no_ctcf_peak\n",
      "OddsR:  0.7590218931618967 p-Value: 0.005338995355280991\n",
      "[[12608   547]\n",
      " [ 3887   128]]\n",
      "Length 128\n",
      "___\n",
      "in border has_ctcf_peak\n",
      "OddsR:  0.9057765602302148 p-Value: 0.4500553558520558\n",
      "[[12823   332]\n",
      " [ 3923    92]]\n",
      "Length 92\n",
      "___\n",
      "in border no_ctcf_peak\n",
      "OddsR:  0.8127082117784344 p-Value: 0.2021717823568288\n",
      "[[12954   201]\n",
      " [ 3965    50]]\n",
      "Length 50\n",
      "___\n"
     ]
    }
   ],
   "source": [
    "list_up_border_minus = make_intersect(expressed_NOT_de_minus,pc_DE_genes_minus, boundaries_minus)"
   ]
  },
  {
   "cell_type": "code",
   "execution_count": 180,
   "id": "0856127d-c464-45ef-bfcc-d98916aaabb0",
   "metadata": {},
   "outputs": [],
   "source": [
    "import json\n",
    "with open(\"/tank/projects/diana_hic/hic_project_notebooks/temp_files/de_genes_up_border_plus.json\", 'w') as f:\n",
    "    json.dump(list_up_border_plus, f)\n",
    "\n",
    "with open(\"/tank/projects/diana_hic/hic_project_notebooks/temp_files/de_genes_up_border_minus.json\", 'w') as f:\n",
    "    json.dump(list_up_border_minus, f)"
   ]
  }
 ],
 "metadata": {
  "kernelspec": {
   "display_name": "Python 3 (ipykernel)",
   "language": "python",
   "name": "python3"
  },
  "language_info": {
   "codemirror_mode": {
    "name": "ipython",
    "version": 3
   },
   "file_extension": ".py",
   "mimetype": "text/x-python",
   "name": "python",
   "nbconvert_exporter": "python",
   "pygments_lexer": "ipython3",
   "version": "3.9.12"
  }
 },
 "nbformat": 4,
 "nbformat_minor": 5
}
