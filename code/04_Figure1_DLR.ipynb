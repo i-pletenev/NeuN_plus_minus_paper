{
 "cells": [
  {
   "cell_type": "code",
   "execution_count": 10,
   "id": "17dc5d72-ef98-4871-bf07-7a75c8019aa6",
   "metadata": {},
   "outputs": [],
   "source": [
    "import cooler\n",
    "import pandas as pd\n",
    "import numpy as np\n",
    "from statannot import add_stat_annotation\n",
    "import seaborn as sns\n",
    "import matplotlib.pyplot as plt"
   ]
  },
  {
   "cell_type": "markdown",
   "id": "ae3f15ee-c5ee-4c29-ac71-b33e2d1a5ef3",
   "metadata": {},
   "source": [
    "# Input data to run this notebook"
   ]
  },
  {
   "cell_type": "code",
   "execution_count": null,
   "id": "e88e8585-8b00-4017-866e-30912f096cca",
   "metadata": {},
   "outputs": [],
   "source": [
    "# Merged Hi-C data\n",
    "# Run 1_merge_Hi-C.sh script to obtain these maps\n",
    "files=['../data/NeuNplus.sampled.1000.mcool::resolutions/250000',\n",
    "       '../data/NeuNminus.sampled.1000.mcool::resolutions/250000']"
   ]
  },
  {
   "cell_type": "markdown",
   "id": "aeaad1a6-f769-4fcb-8705-8199c2c5e234",
   "metadata": {},
   "source": [
    "# DLR calculation and plotting (Figure 1F)"
   ]
  },
  {
   "cell_type": "code",
   "execution_count": 12,
   "id": "c5d7d46f",
   "metadata": {},
   "outputs": [
    {
     "name": "stderr",
     "output_type": "stream",
     "text": [
      "/tmp/ipykernel_398775/1741384723.py:28: RuntimeWarning: divide by zero encountered in long_scalars\n",
      "  DLR.append(np.log2(d/l))\n",
      "/tmp/ipykernel_398775/1741384723.py:28: RuntimeWarning: invalid value encountered in long_scalars\n",
      "  DLR.append(np.log2(d/l))\n",
      "/tmp/ipykernel_398775/1741384723.py:28: RuntimeWarning: divide by zero encountered in log2\n",
      "  DLR.append(np.log2(d/l))\n",
      "/tmp/ipykernel_398775/1741384723.py:28: RuntimeWarning: divide by zero encountered in long_scalars\n",
      "  DLR.append(np.log2(d/l))\n",
      "/tmp/ipykernel_398775/1741384723.py:28: RuntimeWarning: invalid value encountered in long_scalars\n",
      "  DLR.append(np.log2(d/l))\n",
      "/tmp/ipykernel_398775/1741384723.py:28: RuntimeWarning: divide by zero encountered in log2\n",
      "  DLR.append(np.log2(d/l))\n"
     ]
    },
    {
     "data": {
      "text/plain": [
       "Text(0, 0.5, 'DLR')"
      ]
     },
     "execution_count": 12,
     "metadata": {},
     "output_type": "execute_result"
    },
    {
     "data": {
      "image/png": "[encoded data removed]",
      "text/plain": [
       "<Figure size 640x480 with 1 Axes>"
      ]
     },
     "metadata": {},
     "output_type": "display_data"
    }
   ],
   "source": [
    "names=['plus','minus']\n",
    "\n",
    "dic={}\n",
    "\n",
    "for f in range(len(files)):\n",
    "    \n",
    "    coolpath = files[f]\n",
    "    c = cooler.Cooler(coolpath)\n",
    "    DLR=[]\n",
    "    distal=[]\n",
    "    local=[]\n",
    "    \n",
    "    for ch in c.chromnames:\n",
    "        m=c.matrix(balance=False).fetch(ch)\n",
    "        \n",
    "        st1=0\n",
    "        en2=len(m)\n",
    "\n",
    "        for i in range(len(m)):\n",
    "            a=m[i]\n",
    "            en1=max(0,i-12)\n",
    "            st2=min(i+12,len(a))\n",
    "            l=np.nansum(a[en1:st2+1])\n",
    "            d=np.nansum(a[0:en1])+np.nansum(a[st2+1:]) \n",
    "            DLR.append(np.log2(d/l))\n",
    "    dic[names[f]]=DLR\n",
    "\n",
    "df=pd.DataFrame()\n",
    "for i in names:\n",
    "    df[i]=dic[i]\n",
    "\n",
    "\n",
    "df[np.isinf(df)]=np.nan\n",
    "df.dropna(inplace=True)\n",
    "\n",
    "sns.set(style=\"whitegrid\")\n",
    "pal=[sns.color_palette()[4],sns.color_palette()[1]]\n",
    "ax = sns.boxplot(data=df,palette=pal,width=0.3,saturation=1)\n",
    "order=names\n",
    "# add_stat_annotation(ax, data=df,order=order,\n",
    "#                     box_pairs=[('plus','minus')],\n",
    "#                     test='Mann-Whitney', text_format='star', loc='inside', width=0.4,verbose=2)\n",
    "plt.ylabel('DLR')\n",
    "# plt.savefig('.../DLR_neurons_glia.pdf')"
   ]
  }
 ],
 "metadata": {
  "kernelspec": {
   "display_name": "coolpuppy env",
   "language": "python",
   "name": "coolpup"
  },
  "language_info": {
   "codemirror_mode": {
    "name": "ipython",
    "version": 3
   },
   "file_extension": ".py",
   "mimetype": "text/x-python",
   "name": "python",
   "nbconvert_exporter": "python",
   "pygments_lexer": "ipython3",
   "version": "3.10.6"
  }
 },
 "nbformat": 4,
 "nbformat_minor": 5
}
