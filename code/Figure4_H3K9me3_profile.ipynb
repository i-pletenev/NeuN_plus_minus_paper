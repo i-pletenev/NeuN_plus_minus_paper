{
 "cells": [
  {
   "cell_type": "code",
   "execution_count": 1,
   "id": "d8f31f73-0cf4-4a07-8a31-ac6f261ebbd6",
   "metadata": {},
   "outputs": [],
   "source": [
    "import cooler\n",
    "import pandas as pd\n",
    "import numpy as np\n",
    "import seaborn as sns\n",
    "import matplotlib.pyplot as plt"
   ]
  },
  {
   "cell_type": "markdown",
   "id": "2a5f52d0-d210-4d4e-966e-18ca2bdf155b",
   "metadata": {},
   "source": [
    "# Input data to run this notebook"
   ]
  },
  {
   "cell_type": "code",
   "execution_count": null,
   "id": "a262b397-b174-4e38-b7d3-8a3ee6625359",
   "metadata": {},
   "outputs": [],
   "source": [
    "# Merged Hi-C data\n",
    "# Run 1_merge_Hi-C.sh script to obtain these maps\n",
    "clr_neur_path = '../data/NeuNplus.sampled.1000.mcool::resolutions/250000'\n",
    "\n",
    "neuronal_dot_cent_path = ''\n",
    "\n",
    "h3k9me3_astro_path = ''\n",
    "h3k9me3_fetal_path = ''"
   ]
  },
  {
   "cell_type": "markdown",
   "id": "2f64fc78-2f53-40b2-b87c-0efada87c1b0",
   "metadata": {},
   "source": [
    "# Average signal curve calculation and plotting (Figure 4G)"
   ]
  },
  {
   "cell_type": "code",
   "execution_count": 2,
   "id": "44a7592d",
   "metadata": {},
   "outputs": [],
   "source": [
    "def pylap_new(path_to_points,path_to_data,nbins,chrs):\n",
    "    Q=0\n",
    "    points=pd.read_csv(path_to_points,sep='\\t',header=None)\n",
    "    chr_length={'chr1':248956422,'chr2':242193529,'chr3':198295559,'chr4':190214555,'chr5':181538259,'chr6':170805979,'chr7':159345973,'chr8':145138636,'chr9':138394717,\n",
    "    'chr10':133797422,'chr11':135086622,'chr12':133275309,'chr13':114364328,'chr14':107043718,'chr15':101991189,'chr16':90338345,\n",
    "    'chr17':83257441,'chr18':80373285,'chr19':58617616,'chr20':64444167,'chr21':46709983,'chr22':50818468,'chrX':156040895,'chrY':57227415,'chrM':16569}\n",
    "    \n",
    "    points.columns=['chrom','start','end']\n",
    "\n",
    "    for i in list(chr_length.keys()):\n",
    "\n",
    "        points=points.drop(points[(points['chrom']==i) & (points['start']>chr_length[i]-2500000)].index)\n",
    "\n",
    "    h=points[points['start']>=3000000]\n",
    "\n",
    "    h.sort_values(['chrom','start'],inplace=True)\n",
    "\n",
    "    points=pybedtools.BedTool.from_dataframe(h)\n",
    "    path=pd.read_csv(path_to_data,sep='\\t',header=None)\n",
    "    data=pybedtools.BedTool.from_dataframe(path)\n",
    "    t=data.intersect(points,wao=True).to_dataframe()\n",
    "\n",
    "    t= t.loc[t['chrom'].isin(chrs)]\n",
    "    t.loc[t.name=='.','name']=np.nan\n",
    "    q=sum(t['strand']!=-1)\n",
    "\n",
    "    n=np.zeros((q,2*nbins+1))\n",
    "    k=0\n",
    "    for i in chrs:\n",
    "       \n",
    "        tmp=t[t['chrom']==i]\n",
    "       \n",
    "        tmp=tmp.reset_index(drop=True)\n",
    "        for j in range(len(tmp)):\n",
    "\n",
    "            if tmp.loc[j]['strand']!=-1:\n",
    "                \n",
    "                n[k]=tmp.loc[j-nbins:j+nbins]['name']\n",
    "\n",
    "                k+=1\n",
    "            \n",
    "    A=pd.DataFrame(n)\n",
    "\n",
    "    return(A)"
   ]
  },
  {
   "cell_type": "code",
   "execution_count": null,
   "id": "58b1de26",
   "metadata": {},
   "outputs": [],
   "source": [
    "def plott(xx,lab,m):\n",
    "    l=[]\n",
    "    u=[]\n",
    "    for i in xx.columns:\n",
    "        a=xx[i].dropna()\n",
    "        x,y=scipy.stats.t.interval(0.95, len(a)-1, loc=np.nanmean(a,axis=0)-xx.mean(axis=0)[m], scale=scipy.stats.sem(a))\n",
    "        l.append(x)\n",
    "        u.append(y)\n",
    "    xfit = np.linspace(0,2*m, 100) \n",
    "    \n",
    "    spl = scipy.interpolate.make_interp_spline(np.arange(2*m+1),np.nanmean(xx,axis=0)-xx.mean(axis=0)[m], k=3)  \n",
    "    yfit = spl(xfit)\n",
    "    spl = scipy.interpolate.make_interp_spline(np.arange(2*m+1),l, k=3) \n",
    "    fit_l = spl(xfit)\n",
    "\n",
    "    spl = scipy.interpolate.make_interp_spline(np.arange(2*m+1),u, k=3) \n",
    "    fit_u = spl(xfit)\n",
    "\n",
    "    plt.plot(xfit, yfit, '-',label=lab)\n",
    "\n",
    "    plt.fill_between(xfit, fit_l, fit_u,\n",
    "                 color='gray', alpha=0.2)"
   ]
  },
  {
   "cell_type": "code",
   "execution_count": null,
   "id": "31923982",
   "metadata": {},
   "outputs": [],
   "source": [
    "c=cooler.Cooler(clr_neur_path)\n",
    "po1=pylap_new('.../polycomb_dot_anchors.hand_made_centers.bed',\n",
    "             '.../astro_2replicates.bedgraph',20,c.chromnames[0:-2])\n",
    "po2=pylap_new('.../polycomb_dot_anchors.hand_made_centers.bed',\n",
    "             '.../fetal_2replicates.bedgraph',20,c.chromnames[0:-2])\n",
    " \n",
    "\n",
    "plott(po1,'astrocytes',20,sns.color_palette()[1])\n",
    "plott(po2,'fetal brain',20,sns.color_palette()[4])\n",
    "\n",
    "plt.ylabel('H3K9me3 FC signal to control')\n",
    "plt.legend()\n",
    "plt.xticks(np.arange(0,41,10),np.arange(-200,201,100))\n",
    "plt.xlabel('distance from center of contact anchor, kb')\n",
    "# plt.savefig('.../H3K9me3_in_astrocytes_and_fetal_brain_loops.pdf')"
   ]
  }
 ],
 "metadata": {
  "kernelspec": {
   "display_name": "coolpuppy env",
   "language": "python",
   "name": "coolpup"
  },
  "language_info": {
   "codemirror_mode": {
    "name": "ipython",
    "version": 3
   },
   "file_extension": ".py",
   "mimetype": "text/x-python",
   "name": "python",
   "nbconvert_exporter": "python",
   "pygments_lexer": "ipython3",
   "version": "3.10.6"
  }
 },
 "nbformat": 4,
 "nbformat_minor": 5
}
