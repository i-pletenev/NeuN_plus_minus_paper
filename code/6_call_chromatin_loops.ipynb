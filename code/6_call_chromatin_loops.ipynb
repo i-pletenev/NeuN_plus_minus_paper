{
 "cells": [
  {
   "cell_type": "code",
   "execution_count": 2,
   "id": "20db4e4b",
   "metadata": {},
   "outputs": [],
   "source": [
    "import pandas as pd\n",
    "import numpy as np\n",
    "from itertools import chain\n",
    "from scipy.stats import chi2_contingency\n",
    "import cooler\n",
    "import bioframe\n",
    "import cooltools\n",
    "from cooltools.lib.numutils import fill_diag\n",
    "import matplotlib.pyplot as plt\n",
    "import seaborn as sns\n",
    "from matplotlib_venn import venn2"
   ]
  },
  {
   "cell_type": "markdown",
   "id": "e7a630de-9869-4ce9-8e8b-dc458eec766f",
   "metadata": {},
   "source": [
    "### 1. Call loops"
   ]
  },
  {
   "cell_type": "code",
   "execution_count": null,
   "id": "7f9761fb-152f-4718-8b40-1cd947931ceb",
   "metadata": {},
   "outputs": [],
   "source": [
    "#set path to the merged sampled maps\n",
    "path_to_maps = \"../data/\"\n",
    "binsize = 10_000\n",
    "clr_HCmin_10 = cooler.Cooler(f'{path_to_maps}/NeuNminus.sampled.1000.mcool::/resolutions/{binsize}')\n",
    "clr_HCplus_10 = cooler.Cooler(f'{path_to_maps}/NeuNplus.sampled.1000.mcool::/resolutions/{binsize}')\n",
    "clrs_10 = [clr_HCplus_10, clr_HCmin_10]"
   ]
  },
  {
   "cell_type": "code",
   "execution_count": 18,
   "id": "0b1daad4-cb86-4af4-bef2-ccce8f9a1a32",
   "metadata": {},
   "outputs": [],
   "source": [
    "n_proc = 10\n",
    "hg38_chromsizes = bioframe.fetch_chromsizes('hg38')\n",
    "hg38_cens = bioframe.fetch_centromeres('hg38')\n",
    "hg38_arms = bioframe.make_chromarms(hg38_chromsizes, hg38_cens)"
   ]
  },
  {
   "cell_type": "code",
   "execution_count": null,
   "id": "6617faa9",
   "metadata": {
    "collapsed": true,
    "jupyter": {
     "outputs_hidden": true
    }
   },
   "outputs": [],
   "source": [
    "expected_HCmin_10 = cooltools.expected_cis(\n",
    "    clr_HCmin_10,\n",
    "    view_df=hg38_arms,\n",
    "    nproc=n_proc,\n",
    ")\n",
    "expected_HCplus_10 = cooltools.expected_cis(\n",
    "    clr_HCplus_10,\n",
    "    view_df=hg38_arms,\n",
    "    nproc=n_proc,\n",
    ")\n",
    "expected_HCplus_10.to_csv(\"../data/expected_HCplus_10.csv\", index=False)\n",
    "expected_HCmin_10.to_csv(\"../data/expected_HCmin_10.csv\", index=False)"
   ]
  },
  {
   "cell_type": "code",
   "execution_count": null,
   "id": "c65014ab-1816-42d2-b977-ddd59dc22907",
   "metadata": {},
   "outputs": [],
   "source": [
    "dots_df_HCplus_10_ext = cooltools.dots(\n",
    "    clr_HCplus_10,\n",
    "    expected=expected_HCplus_10,\n",
    "    view_df=hg38_arms,\n",
    "    max_loci_separation=6_000_000,\n",
    "    max_nans_tolerated=2,\n",
    "  \n",
    "    lambda_bin_fdr=0.05,\n",
    "    clustering_radius=20_000,\n",
    "    cluster_filtering=None,\n",
    "    tile_size=5_000_000,\n",
    "    nproc=15,\n",
    ")\n",
    "\n",
    "dots_df_HCmin_10_ext = cooltools.dots(\n",
    "    clr_HCmin_10,\n",
    "    expected=expected_HCmin_10,\n",
    "    view_df=hg38_arms,\n",
    "    max_loci_separation=6_000_000,\n",
    "    max_nans_tolerated=2,\n",
    "  \n",
    "    lambda_bin_fdr=0.05,\n",
    "    clustering_radius=20_000,\n",
    "    cluster_filtering=None,\n",
    "    tile_size=5_000_000,\n",
    "    nproc=15,\n",
    ")"
   ]
  },
  {
   "cell_type": "code",
   "execution_count": null,
   "id": "35c76095",
   "metadata": {},
   "outputs": [],
   "source": [
    "dots_df_HCplus_10_ext[\"loop_num\"] = range(1,dots_df_HCplus_10_ext.shape[0] + 1)\n",
    "dots_df_HCmin_10_ext[\"loop_num\"] = range(1,dots_df_HCmin_10_ext.shape[0] + 1)\n",
    "dots_df_HCmin_10_ext = dots_df_HCmin_10_ext[[\"chrom1\", \"start1\", \"end1\", \"chrom2\", \"start2\",\"end2\" , 'loop_num']]\n",
    "dots_df_HCplus_10_ext = dots_df_HCplus_10_ext[[\"chrom1\", \"start1\", \"end1\", \"chrom2\", \"start2\",\"end2\" , 'loop_num']]\n",
    "\n",
    "def save_loops(format = 'tsv'):\n",
    "    if format == 'csv':\n",
    "        dots_df_HCplus_10_ext.to_csv(\"../data/dots_df_HCplus_10_ext.csv\", index=False)\n",
    "        dots_df_HCmin_10_ext.to_csv(\"../data/dots_df_HCmin_10_ext.csv\", index=False)\n",
    "    elif format == 'tsv':\n",
    "        dots_df_HCplus_10_ext.to_csv(\"../data/dots_df_HCplus_10_ext_maps112022.tsv\", sep=\"\\t\", index=False)\n",
    "        dots_df_HCmin_10_ext.to_csv(\"../data/dots_df_HCmin_10_ext_maps112022.tsv\",  sep=\"\\t\", index=False)"
   ]
  },
  {
   "cell_type": "code",
   "execution_count": null,
   "id": "75e95dba-e991-4065-8189-05963f998a99",
   "metadata": {},
   "outputs": [],
   "source": [
    "save_loops(format = 'csv')\n",
    "save_loops(format = 'tsv')"
   ]
  },
  {
   "cell_type": "markdown",
   "id": "d0471cc6-a4da-4e87-9244-47c6b90e0cfe",
   "metadata": {},
   "source": [
    "### 2. Inspect general properties"
   ]
  },
  {
   "cell_type": "code",
   "execution_count": 87,
   "id": "e6fee3f9-f39f-4983-aaf3-67283d59b2ec",
   "metadata": {
    "scrolled": true
   },
   "outputs": [],
   "source": [
    "dots_df_HCplus_10_ext= pd.read_csv(\"../data/dots_df_HCplus_10_ext_maps112022.tsv\", sep=\"\\t\")\n",
    "dots_df_HCmin_10_ext= pd.read_csv(\"../data/dots_df_HCmin_10_ext_maps112022.tsv\",  sep=\"\\t\")\n",
    "dots_df_HCplus_10_ext[\"cell_type\"] = \"NeuN+\"\n",
    "dots_df_HCmin_10_ext[\"cell_type\"] = \"NeuN-\"\n",
    "all_loops_10_ext = pd.concat([dots_df_HCplus_10_ext[[\"chrom1\", \"start1\", \"end1\", \"chrom2\", \"start2\",\"end2\", \"loop_length_mb\", \"cell_type\"]],\n",
    "                              dots_df_HCmin_10_ext[[\"chrom1\", \"start1\", \"end1\", \"chrom2\", \"start2\",\"end2\", \"loop_length_mb\", \"cell_type\"]]]).drop_duplicates().reset_index(drop=True)\n",
    "clrs_10 = [clr_HCplus_10, clr_HCmin_10]\n",
    "exps_10 = [expected_HCplus_10 , expected_HCmin_10]"
   ]
  },
  {
   "cell_type": "code",
   "execution_count": null,
   "id": "1da4622e-4a86-458b-8bae-67277ac850c6",
   "metadata": {},
   "outputs": [],
   "source": [
    "avr_loops, avr_loops_all = [], []\n",
    "for i in range(2):    \n",
    "    stack = cooltools.pileup(clrs_10[i], \n",
    "                                all_loops_10_ext, \n",
    "                                 hg38_arms,                                 \n",
    "                                 expected_df=exps_10[i], \n",
    "                                 flank=200000,\n",
    "                                 nproc=10)\n",
    "    stack[:, :, np.all(stack == 0, axis=(0,1))] = np.nan\n",
    "    avr_loops_all.append(stack)\n",
    "    avr_loops.append(np.nanmean(stack, axis=0))"
   ]
  },
  {
   "cell_type": "code",
   "execution_count": 49,
   "id": "65a7c981-2afb-4a0b-8cc3-a528622eba2c",
   "metadata": {},
   "outputs": [
    {
     "data": {
      "image/png": "[encoded data removed]",
      "text/plain": [
       "<Figure size 600x600 with 2 Axes>"
      ]
     },
     "metadata": {},
     "output_type": "display_data"
    }
   ],
   "source": [
    "plt.rcParams['axes.facecolor'] = 'white'\n",
    "fig, axs = plt.subplots(1, 2,figsize=(6,6), \n",
    "                        gridspec_kw={'width_ratios': [1, 0.1] , 'wspace':0.1})\n",
    "vmin=-0.5\n",
    "vmax=0.5\n",
    "im = axs[0].imshow(np.log(avr_loops[0]/ avr_loops[1]), cmap='coolwarm',\n",
    "                vmin = vmin, vmax = vmax )\n",
    "axs[0].set_xticks([])\n",
    "axs[0].set_yticks([])\n",
    "axs[0].set_title('NeuN+/NeuN-')\n",
    "plt.colorbar(im, cax=axs[1])\n",
    "axs[1].set_box_aspect(10) # adjust colorbar height\n",
    "axs[1].set_ylabel(\"log2(mean intensity)\")\n",
    "plt.suptitle('Average loop (combined loops layout, 10 kb resolution)', fontsize = 14, x=0.61,y = 0.99);\n"
   ]
  },
  {
   "cell_type": "code",
   "execution_count": 52,
   "id": "c2d734b0-f6c2-43eb-ab73-685d6fa0ad22",
   "metadata": {},
   "outputs": [
    {
     "data": {
      "image/png": "[encoded data removed]",
      "text/plain": [
       "<Figure size 400x400 with 1 Axes>"
      ]
     },
     "metadata": {},
     "output_type": "display_data"
    }
   ],
   "source": [
    "sns.set_style(\"white\")\n",
    "plt.figure(figsize=(4,4))\n",
    "my_pal = {\"NeuN+\": sns.color_palette()[4], \"NeuN-\":sns.color_palette()[1]}\n",
    "c = venn2(subsets = (1545,1951, 1078), \n",
    "          set_labels = ('NeuN+', 'NeuN-'),\n",
    "         set_colors=(sns.color_palette()[4],sns.color_palette()[1]),alpha=0.69)\n",
    "c.get_patch_by_id('11').set_color('#b7a9c4')\n",
    "plt.show()"
   ]
  },
  {
   "cell_type": "code",
   "execution_count": 88,
   "id": "20738885-d2c9-4fca-8a8f-5cb58c162f99",
   "metadata": {},
   "outputs": [
    {
     "data": {
      "text/plain": [
       "Text(0.5, 0, 'Cell type')"
      ]
     },
     "execution_count": 88,
     "metadata": {},
     "output_type": "execute_result"
    },
    {
     "data": {
      "image/png": "[encoded data removed]",
      "text/plain": [
       "<Figure size 400x500 with 1 Axes>"
      ]
     },
     "metadata": {},
     "output_type": "display_data"
    }
   ],
   "source": [
    "sns.set_style(\"white\")\n",
    "plt.figure(figsize=(4,5))\n",
    "my_pal = {\"NeuN+\": sns.color_palette()[4], \"NeuN-\":sns.color_palette()[1]}\n",
    "ax= sns.boxplot(data=all_loops_10_ext, x=\"cell_type\", y=\"loop_length_mb\",  width=0.5,\n",
    "                showmeans=False, palette=my_pal, \n",
    "                meanprops={\"marker\":\"o\",\n",
    "                       \"markerfacecolor\":\"white\", \n",
    "                       \"markeredgecolor\":\"black\",\n",
    "                      \"markersize\":\"10\"} );\n",
    "plt.ylabel(\"Loop length, Mb\", size=12)\n",
    "plt.xlabel(\"Cell type\", size=12)"
   ]
  },
  {
   "cell_type": "code",
   "execution_count": 85,
   "id": "27c56a64-7a4a-42e3-94d8-b1275b8a9e38",
   "metadata": {},
   "outputs": [
    {
     "data": {
      "text/html": [
       "<div>\n",
       "<style scoped>\n",
       "    .dataframe tbody tr th:only-of-type {\n",
       "        vertical-align: middle;\n",
       "    }\n",
       "\n",
       "    .dataframe tbody tr th {\n",
       "        vertical-align: top;\n",
       "    }\n",
       "\n",
       "    .dataframe thead th {\n",
       "        text-align: right;\n",
       "    }\n",
       "</style>\n",
       "<table border=\"1\" class=\"dataframe\">\n",
       "  <thead>\n",
       "    <tr style=\"text-align: right;\">\n",
       "      <th></th>\n",
       "      <th>chrom1</th>\n",
       "      <th>start1</th>\n",
       "      <th>end1</th>\n",
       "      <th>chrom2</th>\n",
       "      <th>start2</th>\n",
       "      <th>end2</th>\n",
       "      <th>loop_length_mb</th>\n",
       "    </tr>\n",
       "  </thead>\n",
       "  <tbody>\n",
       "    <tr>\n",
       "      <th>0</th>\n",
       "      <td>chr10</td>\n",
       "      <td>23990000</td>\n",
       "      <td>24000000</td>\n",
       "      <td>chr10</td>\n",
       "      <td>24190000</td>\n",
       "      <td>24200000</td>\n",
       "      <td>0.21</td>\n",
       "    </tr>\n",
       "    <tr>\n",
       "      <th>1</th>\n",
       "      <td>chr10</td>\n",
       "      <td>30780000</td>\n",
       "      <td>30790000</td>\n",
       "      <td>chr10</td>\n",
       "      <td>31150000</td>\n",
       "      <td>31160000</td>\n",
       "      <td>0.38</td>\n",
       "    </tr>\n",
       "    <tr>\n",
       "      <th>2</th>\n",
       "      <td>chr10</td>\n",
       "      <td>28240000</td>\n",
       "      <td>28250000</td>\n",
       "      <td>chr10</td>\n",
       "      <td>28380000</td>\n",
       "      <td>28390000</td>\n",
       "      <td>0.15</td>\n",
       "    </tr>\n",
       "    <tr>\n",
       "      <th>3</th>\n",
       "      <td>chr10</td>\n",
       "      <td>22000000</td>\n",
       "      <td>22010000</td>\n",
       "      <td>chr10</td>\n",
       "      <td>22310000</td>\n",
       "      <td>22320000</td>\n",
       "      <td>0.32</td>\n",
       "    </tr>\n",
       "    <tr>\n",
       "      <th>4</th>\n",
       "      <td>chr10</td>\n",
       "      <td>20860000</td>\n",
       "      <td>20870000</td>\n",
       "      <td>chr10</td>\n",
       "      <td>21260000</td>\n",
       "      <td>21270000</td>\n",
       "      <td>0.41</td>\n",
       "    </tr>\n",
       "    <tr>\n",
       "      <th>...</th>\n",
       "      <td>...</td>\n",
       "      <td>...</td>\n",
       "      <td>...</td>\n",
       "      <td>...</td>\n",
       "      <td>...</td>\n",
       "      <td>...</td>\n",
       "      <td>...</td>\n",
       "    </tr>\n",
       "    <tr>\n",
       "      <th>4910</th>\n",
       "      <td>chrX</td>\n",
       "      <td>129310000</td>\n",
       "      <td>129320000</td>\n",
       "      <td>chrX</td>\n",
       "      <td>129460000</td>\n",
       "      <td>129470000</td>\n",
       "      <td>0.16</td>\n",
       "    </tr>\n",
       "    <tr>\n",
       "      <th>4911</th>\n",
       "      <td>chrX</td>\n",
       "      <td>130070000</td>\n",
       "      <td>130080000</td>\n",
       "      <td>chrX</td>\n",
       "      <td>130190000</td>\n",
       "      <td>130200000</td>\n",
       "      <td>0.13</td>\n",
       "    </tr>\n",
       "    <tr>\n",
       "      <th>4912</th>\n",
       "      <td>chrX</td>\n",
       "      <td>110450000</td>\n",
       "      <td>110460000</td>\n",
       "      <td>chrX</td>\n",
       "      <td>110840000</td>\n",
       "      <td>110850000</td>\n",
       "      <td>0.40</td>\n",
       "    </tr>\n",
       "    <tr>\n",
       "      <th>4913</th>\n",
       "      <td>chrX</td>\n",
       "      <td>68820000</td>\n",
       "      <td>68830000</td>\n",
       "      <td>chrX</td>\n",
       "      <td>69220000</td>\n",
       "      <td>69230000</td>\n",
       "      <td>0.41</td>\n",
       "    </tr>\n",
       "    <tr>\n",
       "      <th>4914</th>\n",
       "      <td>chrX</td>\n",
       "      <td>114610000</td>\n",
       "      <td>114620000</td>\n",
       "      <td>chrX</td>\n",
       "      <td>115140000</td>\n",
       "      <td>115150000</td>\n",
       "      <td>0.54</td>\n",
       "    </tr>\n",
       "  </tbody>\n",
       "</table>\n",
       "<p>4915 rows × 7 columns</p>\n",
       "</div>"
      ],
      "text/plain": [
       "     chrom1     start1       end1 chrom2     start2       end2  loop_length_mb\n",
       "0     chr10   23990000   24000000  chr10   24190000   24200000            0.21\n",
       "1     chr10   30780000   30790000  chr10   31150000   31160000            0.38\n",
       "2     chr10   28240000   28250000  chr10   28380000   28390000            0.15\n",
       "3     chr10   22000000   22010000  chr10   22310000   22320000            0.32\n",
       "4     chr10   20860000   20870000  chr10   21260000   21270000            0.41\n",
       "...     ...        ...        ...    ...        ...        ...             ...\n",
       "4910   chrX  129310000  129320000   chrX  129460000  129470000            0.16\n",
       "4911   chrX  130070000  130080000   chrX  130190000  130200000            0.13\n",
       "4912   chrX  110450000  110460000   chrX  110840000  110850000            0.40\n",
       "4913   chrX   68820000   68830000   chrX   69220000   69230000            0.41\n",
       "4914   chrX  114610000  114620000   chrX  115140000  115150000            0.54\n",
       "\n",
       "[4915 rows x 7 columns]"
      ]
     },
     "execution_count": 85,
     "metadata": {},
     "output_type": "execute_result"
    }
   ],
   "source": [
    "all_loops_10_ext"
   ]
  },
  {
   "cell_type": "markdown",
   "id": "33ce657a-38a1-433b-b32e-38cd5185d3b8",
   "metadata": {},
   "source": [
    "### 3. Identify loops groups"
   ]
  },
  {
   "cell_type": "code",
   "execution_count": null,
   "id": "43abab33-c26f-496c-9264-34048cbf20ae",
   "metadata": {},
   "outputs": [],
   "source": [
    "all_loops_10_ext_hic_plus = []\n",
    "stack = cooltools.pileup(clrs_10[0], \n",
    "                             all_loops_10_ext, \n",
    "                             hg38_arms,                                 \n",
    "                             expected_df=exps_10[0], \n",
    "                             flank=200000,\n",
    "                             nproc=12)\n",
    "\n",
    "stack[:, :, np.all(stack == 0, axis=(0,1))] = np.nan\n",
    "all_loops_10_ext_hic_plus.append(stack)\n",
    "all_loops_10_ext_hic_plus = all_loops_10_ext_hic_plus[0]\n"
   ]
  },
  {
   "cell_type": "code",
   "execution_count": 67,
   "id": "e6428059-3c1b-49b6-aaaa-67d9da46b1ad",
   "metadata": {},
   "outputs": [],
   "source": [
    "all_loops_10_ext_hic_plus_20_20 = []\n",
    "for i in range(all_loops_10_ext_hic_plus.shape[0]):\n",
    "    all_loops_10_ext_hic_plus_20_20.append(all_loops_10_ext_hic_plus[i][20,20])"
   ]
  },
  {
   "cell_type": "code",
   "execution_count": null,
   "id": "fba0d132-8517-4b02-8633-82d0b476d060",
   "metadata": {},
   "outputs": [],
   "source": [
    "all_loops_10_ext_hic_minus = []\n",
    "stack = cooltools.pileup(clrs_10[1], \n",
    "                             all_loops_10_ext, \n",
    "                             hg38_arms,                                 \n",
    "                             expected_df=exps_10[1], \n",
    "                             flank=200000,\n",
    "                             nproc=12)\n",
    "\n",
    "stack[:, :, np.all(stack == 0, axis=(0,1))] = np.nan\n",
    "all_loops_10_ext_hic_minus.append(stack)\n",
    "all_loops_10_ext_hic_minus = all_loops_10_ext_hic_minus[0]\n"
   ]
  },
  {
   "cell_type": "code",
   "execution_count": 68,
   "id": "82b3ee2b-a98a-4654-a84b-537a78a092e8",
   "metadata": {},
   "outputs": [],
   "source": [
    "all_loops_10_ext_hic_minus_20_20 = []\n",
    "for i in range(all_loops_10_ext_hic_minus.shape[0]):\n",
    "    all_loops_10_ext_hic_minus_20_20.append(all_loops_10_ext_hic_minus[i][20,20])"
   ]
  },
  {
   "cell_type": "code",
   "execution_count": null,
   "id": "015c670e-8e39-4345-9176-2c27d78a66fd",
   "metadata": {},
   "outputs": [],
   "source": [
    "all_loops_10_ext_hic = [i/k for i, k in zip(all_loops_10_ext_hic_plus_20_20, all_loops_10_ext_hic_minus_20_20)]\n",
    "all_loops_10_ext[\"NeuN+\"] = all_loops_10_ext_hic_plus_20_20\n",
    "all_loops_10_ext[\"NeuN-\"] = all_loops_10_ext_hic_minus_20_20\n",
    "all_loops_10_ext[\"NeuN+/NeuN-\"] = all_loops_10_ext_hic"
   ]
  },
  {
   "cell_type": "code",
   "execution_count": null,
   "id": "f3e0ec34-52de-41e3-85e8-b98272502c37",
   "metadata": {},
   "outputs": [],
   "source": [
    "groups = np.quantile(np.array(all_loops_10_ext[\"NeuN+/NeuN-\"].tolist()), [0,0.25,0.5,0.75,1])\n",
    "print(groups)\n",
    "loops_groups = []\n",
    "for item in all_loops_10_ext[\"NeuN+/NeuN-\"].tolist():\n",
    "    if item <=groups[1]:\n",
    "        loops_groups.append(0)\n",
    "    if item <=groups[2] and item > groups[1]:\n",
    "        loops_groups.append(1)\n",
    "    if item <=groups[3] and item > groups[2]:\n",
    "        loops_groups.append(2)\n",
    "    if item > groups[3]:\n",
    "        loops_groups.append(3)\n",
    "all_loops_10_ext[\"loop_group\"] = loops_groups"
   ]
  },
  {
   "cell_type": "code",
   "execution_count": 78,
   "id": "a5da2965-631e-470e-b4bc-062e13e15215",
   "metadata": {},
   "outputs": [
    {
     "name": "stderr",
     "output_type": "stream",
     "text": [
      "/tmp/ipykernel_808099/2747411422.py:7: RuntimeWarning: divide by zero encountered in divide\n",
      "  loops_cooltools_groups_ind.append(all_loops_10_ext_hic_plus[i] / all_loops_10_ext_hic_minus[i])\n",
      "/tmp/ipykernel_808099/2747411422.py:7: RuntimeWarning: invalid value encountered in divide\n",
      "  loops_cooltools_groups_ind.append(all_loops_10_ext_hic_plus[i] / all_loops_10_ext_hic_minus[i])\n"
     ]
    }
   ],
   "source": [
    "loops_cooltools_groups = []\n",
    "num_groups = []\n",
    "for group in [0,1,2,3]:\n",
    "    ind_list = all_loops_10_ext[all_loops_10_ext.loop_group == group].index.tolist() \n",
    "    loops_cooltools_groups_ind = []\n",
    "    for i in ind_list:\n",
    "        loops_cooltools_groups_ind.append(all_loops_10_ext_hic_plus[i] / all_loops_10_ext_hic_minus[i])\n",
    "    loops_cooltools_groups_ind = np.array(loops_cooltools_groups_ind)\n",
    "    loops_cooltools_groups_ind[np.isinf(loops_cooltools_groups_ind)] = np.nan\n",
    "    loops_cooltools_groups.append(np.nanmean(loops_cooltools_groups_ind, axis=0))\n",
    "    num_groups.append(len(ind_list))"
   ]
  },
  {
   "cell_type": "code",
   "execution_count": 79,
   "id": "c49b3b3e-b9d4-4066-889a-ef68323d87eb",
   "metadata": {},
   "outputs": [
    {
     "data": {
      "image/png": "[encoded data removed]",
      "text/plain": [
       "<Figure size 1200x400 with 5 Axes>"
      ]
     },
     "metadata": {},
     "output_type": "display_data"
    }
   ],
   "source": [
    "a=14\n",
    "sns.set_style(\"ticks\")\n",
    "fig, axs = plt.subplots(1, 5, figsize=(12,4), \n",
    "                        gridspec_kw={'width_ratios': [1, 1, 1,1, 0.2]})\n",
    "cnt=0\n",
    "n_count = 0\n",
    "for i in range(4):\n",
    "        im = axs[i].imshow(np.log(loops_cooltools_groups[cnt][0+a:-a, 0+a:-a]), \n",
    "                              cmap='coolwarm',\n",
    "                              vmin=-1, vmax=1)\n",
    "        axs[i].set_xticks([])\n",
    "        axs[i].set_yticks([])\n",
    "        cnt+=1\n",
    "        n_count+=1\n",
    "vmin=-0.8\n",
    "vmax=0.8\n",
    "axs[0].set_title('Group 1');\n",
    "axs[1].set_title('Group 2');\n",
    "axs[2].set_title('Group 3');\n",
    "axs[3].set_title('Group 4');\n",
    "plt.colorbar(im, cax=axs[4], ticks = [vmin, 0 , vmax])\n",
    "axs[4].set_box_aspect(8) \n",
    "plt.tight_layout()\n",
    "plt.subplots_adjust( hspace=0.05)  "
   ]
  }
 ],
 "metadata": {
  "kernelspec": {
   "display_name": "Python 3 (ipykernel)",
   "language": "python",
   "name": "python3"
  },
  "language_info": {
   "codemirror_mode": {
    "name": "ipython",
    "version": 3
   },
   "file_extension": ".py",
   "mimetype": "text/x-python",
   "name": "python",
   "nbconvert_exporter": "python",
   "pygments_lexer": "ipython3",
   "version": "3.9.12"
  }
 },
 "nbformat": 4,
 "nbformat_minor": 5
}
