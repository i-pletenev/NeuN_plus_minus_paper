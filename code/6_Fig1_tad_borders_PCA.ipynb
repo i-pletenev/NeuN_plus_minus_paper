{
 "cells": [
  {
   "cell_type": "code",
   "execution_count": 13,
   "id": "1a078f45-c0ea-4bae-aff9-2b0c3345a753",
   "metadata": {},
   "outputs": [],
   "source": [
    "import pandas as pd\n",
    "import cooler\n",
    "from cooltools import insulation\n",
    "import glob, os\n",
    "from pybedtools import BedTool as pbt\n",
    "import seaborn as sns\n",
    "import plotly.express as px\n",
    "from sklearn.decomposition import PCA\n",
    "from sklearn.preprocessing import StandardScaler\n",
    "import matplotlib.pyplot as plt"
   ]
  },
  {
   "cell_type": "markdown",
   "id": "891fc1cc-9d34-4901-bb64-9fbae31dfe87",
   "metadata": {},
   "source": [
    "### 1. Call TAD borders - merged maps"
   ]
  },
  {
   "cell_type": "code",
   "execution_count": 3,
   "id": "36b3d982-bb28-44c6-a99e-748d49ae4652",
   "metadata": {},
   "outputs": [],
   "source": [
    "path_to_maps = \"../data/\"\n",
    "resolution = 15_000\n",
    "clr_odc= cooler.Cooler(f'{path_to_maps}::/resolutions/{resolution}')"
   ]
  },
  {
   "cell_type": "code",
   "execution_count": 4,
   "id": "6686ad29-2de0-4615-b904-2f27095fbe75",
   "metadata": {},
   "outputs": [],
   "source": [
    "insulation_table = insulation(clr_odc, [120_000], min_frac_valid_pixels=0.76,  min_dist_bad_bin=10, verbose=False)"
   ]
  },
  {
   "cell_type": "code",
   "execution_count": 8,
   "id": "3ffa5075-0823-4c5f-80c3-9d0bb53fd42a",
   "metadata": {},
   "outputs": [],
   "source": [
    "window = 120\n",
    "map_size = 15\n",
    "directory = \"../data\"\n",
    "\n",
    "boundaries = insulation_table[insulation_table[f\"is_boundary_{window}000\"] == True]\n",
    "boundaries = boundaries[[\"chrom\", 'start', 'end',f\"boundary_strength_{window}000\", f\"log2_insulation_score_{window}000\"]]\n",
    "boundaries.to_csv(f\"{directory}/boundaries_plus_maps_112022_{map_size}_{window}kb_params.bed\",sep=\"\\t\", header=None,index=False)\n",
    "boundaries.to_csv(f\"{directory}/boundaries_plus_maps_112022_{map_size}_{window}kb_params.csv\",index=False)\n",
    "\n",
    "insulation_table.to_csv(f\"{directory}/insulation_score_odc_{map_size}_{window}kb_params.bed\",sep=\"\\t\", header=None,index=False)\n",
    "insulation_table.to_csv(f\"{directory}insulation_score_odc_{map_size}_{window}kb_params.csv\", index=False)\n"
   ]
  },
  {
   "cell_type": "markdown",
   "id": "6cb1cbb5-394f-4113-bc1b-c9be9468d376",
   "metadata": {},
   "source": [
    "### 2. Call TAD borderes - individual maps"
   ]
  },
  {
   "cell_type": "code",
   "execution_count": 5,
   "id": "807ff8d5-9cca-4c52-923b-d2e3c84b5145",
   "metadata": {},
   "outputs": [
    {
     "data": {
      "text/plain": [
       "['sampled_HC-318plus_drop_diag_1K.mcool',\n",
       " 'sampled_HC-91minus_drop_diag_1K.mcool',\n",
       " 'sampled_HC-3Mplus_drop_diag_1K.mcool',\n",
       " 'sampled_HC-318minus_drop_diag_1K.mcool',\n",
       " 'sampled_HC-91plus_drop_diag_1K.mcool',\n",
       " 'sampled_HC-2Mplus_drop_diag_1K.mcool',\n",
       " 'sampled_HC-3Mminus_drop_diag_1K.mcool',\n",
       " 'sampled_HC-2Mminus_drop_diag_1K.mcool']"
      ]
     },
     "execution_count": 5,
     "metadata": {},
     "output_type": "execute_result"
    }
   ],
   "source": [
    "path_to_maps = \"../data\"\n",
    "os.chdir(path_to_maps)\n",
    "files= []\n",
    "for file in glob.glob(\"*.mcool\"):\n",
    "    files.append(file)\n",
    "files"
   ]
  },
  {
   "cell_type": "code",
   "execution_count": 6,
   "id": "6966014a-719c-4e98-a2e8-b61b6fae0830",
   "metadata": {},
   "outputs": [],
   "source": [
    "resolution = 15_000\n",
    "window = 120\n",
    "map_size = 15\n",
    "\n",
    "for file in files:\n",
    "    clr = cooler.Cooler(f'{path_to_maps}/{file}::/resolutions/{resolution}')\n",
    "    insulation_table = insulation(clr, [120_000], min_frac_valid_pixels=0.82,  min_dist_bad_bin=10, verbose=False)\n",
    "    boundaries_minus_param2 = insulation_table[~insulation_table.log2_insulation_score_120000.isna()]\n",
    "    boundaries_minus_param2 = boundaries_minus_param2[[\"chrom\", 'start', 'end',f\"log2_insulation_score_{window}000\"]]\n",
    "    boundaries_minus_param2.to_csv(f\"../data/full_insulation_score_{file.split('_')[1]}.bedGraph\",sep=\"\\t\", header=None,index=False)\n"
   ]
  },
  {
   "cell_type": "markdown",
   "id": "7e6463a0-5ff5-4a7f-ad9f-4d8384885757",
   "metadata": {},
   "source": [
    "### 2.Plot PCA based on insulation"
   ]
  },
  {
   "cell_type": "code",
   "execution_count": 7,
   "id": "87457c26-7b1f-40b4-b5de-1e2a567a8f67",
   "metadata": {},
   "outputs": [],
   "source": [
    "# create multibed.bed file using bedtools. This file should be an intersection of all used .bed files: multiinter [OPTIONS] -i FILE1 FILE2 .. FILEn\n",
    "multibed = pd.read_csv(f\"../data/multibed.bed\", sep=\"\\t\") #set path to .bed\n",
    "multibed = multibed[multibed.num == 8]"
   ]
  },
  {
   "cell_type": "code",
   "execution_count": 8,
   "id": "7f4ed1e9-76d9-4103-9a5c-7f91cea32583",
   "metadata": {},
   "outputs": [],
   "source": [
    "HC_318minus = pd.read_csv(f\"../data/full_insulation_score_{files[0].split('_')[1]}.bedGraph\",sep=\"\\t\", header=None)\n",
    "sample_3Mplus = pd.read_csv(f\"../data/full_insulation_score_{files[1].split('_')[1]}.bedGraph\",sep=\"\\t\", header=None)\n",
    "sample_2Mminus = pd.read_csv(f\"../data/full_insulation_score_{files[2].split('_')[1]}.bedGraph\",sep=\"\\t\", header=None)\n",
    "sample_3Mminus = pd.read_csv(f\"../data/full_insulation_score_{files[3].split('_')[1]}.bedGraph\",sep=\"\\t\", header=None)\n",
    "\n",
    "sample_91plus = pd.read_csv(f\"../data/full_insulation_score_{files[4].split('_')[1]}.bedGraph\",sep=\"\\t\", header=None)\n",
    "sample_2Mplus = pd.read_csv(f\"../data/full_insulation_score_{files[5].split('_')[1]}.bedGraph\",sep=\"\\t\", header=None)\n",
    "sample_318plus = pd.read_csv(f\"../data/full_insulation_score_{files[6].split('_')[1]}.bedGraph\",sep=\"\\t\", header=None)\n",
    "sample_91minus = pd.read_csv(f\"../data/full_insulation_score_{files[7].split('_')[1]}.bedGraph\",sep=\"\\t\", header=None)\n",
    "\n",
    "dfs = [HC_318minus, sample_3Mplus, sample_2Mminus,sample_3Mminus,sample_91plus,sample_2Mplus,sample_318plus,sample_91minus ]\n",
    "names = [i.split('_')[1] for i in files]"
   ]
  },
  {
   "cell_type": "code",
   "execution_count": 11,
   "id": "be958e70-d5eb-4c2c-b032-a130e90daa5b",
   "metadata": {},
   "outputs": [
    {
     "name": "stdout",
     "output_type": "stream",
     "text": [
      "133961\n",
      "133961\n",
      "133961\n",
      "133961\n",
      "133961\n",
      "133961\n",
      "133961\n",
      "133961\n"
     ]
    }
   ],
   "source": [
    "df_res_final = pd.DataFrame()\n",
    "for df, name  in zip(dfs, names):\n",
    "    df2 = pbt.from_dataframe(df).intersect(pbt.from_dataframe(multibed[[\"chrom\",\"start\",\"end\"]]))\n",
    "    df2 = pd.read_table(df2.fn,header = None)\n",
    "    df_res = df2[[3]]\n",
    "    df_res.columns = [name]\n",
    "    df_res_final = pd.concat([df_res_final, df_res], axis=1)\n",
    "    print(df_res_final.shape[0])"
   ]
  },
  {
   "cell_type": "code",
   "execution_count": 15,
   "id": "ef85a09d-27be-421e-a9f6-f4a0649cc658",
   "metadata": {},
   "outputs": [],
   "source": [
    "X = df_res_final.T.reset_index()[df_res_final.T.reset_index().columns.tolist()[1:]]\n",
    "scaler = StandardScaler()\n",
    "X_train_scaled = scaler.fit_transform(X)\n",
    "\n",
    "pca = PCA(n_components=2)\n",
    "components = pca.fit_transform(X_train_scaled)"
   ]
  },
  {
   "cell_type": "code",
   "execution_count": 16,
   "id": "45615ee5-ba4c-4e69-a3b5-0663e6dec456",
   "metadata": {},
   "outputs": [],
   "source": [
    "components_df = pd.DataFrame(components, columns = [\"PC1\",\"PC2\"])\n",
    "components_df[\"sample\"] = df_res_final.T.reset_index()[\"index\"].tolist()"
   ]
  },
  {
   "cell_type": "code",
   "execution_count": 17,
   "id": "ec05cda6-f0b5-4284-ae5c-dd426e0bd104",
   "metadata": {},
   "outputs": [],
   "source": [
    "names = ['HC-318minus','HC-91minus', 'HC-2Mminus', 'HC-3Mminus', 'HC-318plus','HC-91plus', 'HC-2Mplus', 'HC-3Mplus']\n",
    "names2 = ['NeuN-']*4 + ['NeuN+']*4\n",
    "\n",
    "components_df1 = components_df.set_index('sample')\n",
    "components_df1 = components_df1.loc[names].reset_index()\n",
    "components_df1[\"sample group\"] = names2\n",
    "components_df1[\"sample\"] = ['318 NeuN-','91 NeuN-', '2M NeuN-', '3M NeuN-', '318 NeuN+','91 NeuN+', '2M NeuN+', '3M NeuN+']"
   ]
  },
  {
   "cell_type": "code",
   "execution_count": 20,
   "id": "dc9e46dd-8df6-44e5-b544-f8db64402ce2",
   "metadata": {},
   "outputs": [
    {
     "data": {
      "image/png": "[encoded data removed]",
      "text/plain": [
       "<Figure size 720x720 with 1 Axes>"
      ]
     },
     "metadata": {},
     "output_type": "display_data"
    }
   ],
   "source": [
    "sns.set_style(\"white\")\n",
    "plt.figure(figsize=(6,6), dpi = 120)\n",
    "my_pal = {\"NeuN+\": (sns.color_palette()[4]), \"NeuN-\": (sns.color_palette()[1])}\n",
    "sns.scatterplot(data=components_df1, s=120, x=\"PC1\", y=\"PC2\", hue=\"sample group\", palette = my_pal)\n",
    "plt.axvline(0, 0,300, ls = '--', c = \"lightgrey\")\n",
    "plt.axhline(0, 0,300, ls = '--', c = \"lightgrey\")\n",
    "plt.ylim(-300,330)\n",
    "plt.xlim(-300,400)\n",
    "plt.xlabel(\"PC1 41.01%\")\n",
    "plt.ylabel(\"PC2 16.09%\")\n",
    "\n",
    "df = components_df1\n",
    "for line in range(0,df.shape[0]):\n",
    "    a = 20\n",
    "    b = 40\n",
    "    if line == 5 or line == 3:\n",
    "        a = 40    \n",
    "    if line == 0:\n",
    "        b = 10  \n",
    "    plt.text(df.PC1[line]-b, components_df1.PC2[line]+a, df[\"sample\"][line], horizontalalignment='left',\n",
    "              size='medium', color='black')\n",
    "plt.show()"
   ]
  }
 ],
 "metadata": {
  "kernelspec": {
   "display_name": "Python 3 (ipykernel)",
   "language": "python",
   "name": "python3"
  },
  "language_info": {
   "codemirror_mode": {
    "name": "ipython",
    "version": 3
   },
   "file_extension": ".py",
   "mimetype": "text/x-python",
   "name": "python",
   "nbconvert_exporter": "python",
   "pygments_lexer": "ipython3",
   "version": "3.9.12"
  }
 },
 "nbformat": 4,
 "nbformat_minor": 5
}
