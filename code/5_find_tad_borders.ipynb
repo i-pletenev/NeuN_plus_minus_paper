{
 "cells": [
  {
   "cell_type": "code",
   "execution_count": 1,
   "id": "1a078f45-c0ea-4bae-aff9-2b0c3345a753",
   "metadata": {},
   "outputs": [],
   "source": [
    "import pandas as pd\n",
    "import cooler\n",
    "from cooltools import insulation"
   ]
  },
  {
   "cell_type": "code",
   "execution_count": 3,
   "id": "36b3d982-bb28-44c6-a99e-748d49ae4652",
   "metadata": {},
   "outputs": [],
   "source": [
    "path_to_maps = \"../data/\"\n",
    "resolution = 15_000\n",
    "clr_odc= cooler.Cooler(f'{path_to_maps}::/resolutions/{resolution}')"
   ]
  },
  {
   "cell_type": "code",
   "execution_count": 4,
   "id": "6686ad29-2de0-4615-b904-2f27095fbe75",
   "metadata": {},
   "outputs": [],
   "source": [
    "insulation_table = insulation(clr_odc, [120_000], min_frac_valid_pixels=0.76,  min_dist_bad_bin=10, verbose=False)"
   ]
  },
  {
   "cell_type": "code",
   "execution_count": 8,
   "id": "3ffa5075-0823-4c5f-80c3-9d0bb53fd42a",
   "metadata": {},
   "outputs": [],
   "source": [
    "window = 120\n",
    "map_size = 15\n",
    "directory = \"../data\"\n",
    "\n",
    "boundaries = insulation_table[insulation_table[f\"is_boundary_{window}000\"] == True]\n",
    "boundaries = boundaries[[\"chrom\", 'start', 'end',f\"boundary_strength_{window}000\", f\"log2_insulation_score_{window}000\"]]\n",
    "boundaries.to_csv(f\"{directory}/tad_boundaries_odc_{map_size}_{window}kb_params.bed\",sep=\"\\t\", header=None,index=False)\n",
    "boundaries.to_csv(f\"{directory}/tad_boundaries_odc_{map_size}_{window}kb_params.csv\",index=False)\n",
    "\n",
    "insulation_table.to_csv(f\"{directory}/insulation_score_odc_{map_size}_{window}kb_params.bed\",sep=\"\\t\", header=None,index=False)\n",
    "insulation_table.to_csv(f\"{directory}insulation_score_odc_{map_size}_{window}kb_params.csv\", index=False)\n"
   ]
  }
 ],
 "metadata": {
  "kernelspec": {
   "display_name": "Python 3 (ipykernel)",
   "language": "python",
   "name": "python3"
  },
  "language_info": {
   "codemirror_mode": {
    "name": "ipython",
    "version": 3
   },
   "file_extension": ".py",
   "mimetype": "text/x-python",
   "name": "python",
   "nbconvert_exporter": "python",
   "pygments_lexer": "ipython3",
   "version": "3.9.12"
  }
 },
 "nbformat": 4,
 "nbformat_minor": 5
}
